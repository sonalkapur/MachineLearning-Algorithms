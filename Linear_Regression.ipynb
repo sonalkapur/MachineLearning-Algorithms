{
 "cells": [
  {
   "cell_type": "markdown",
   "metadata": {},
   "source": [
    "### Linear Regression\n",
    "\n",
    "Steps:\n",
    "1. Preprocessing the data\n",
    "2. Lasso Regularization\n",
    "3. Training the model and\n",
    "4. Predicting the new data and performing quality evaluation using ROC curve, Precision Recall Curve ,Accuracy and Confusion Matrix"
   ]
  },
  {
   "cell_type": "code",
   "execution_count": 36,
   "metadata": {
    "collapsed": true
   },
   "outputs": [],
   "source": [
    "# importing libraries\n",
    "import pandas as pd\n",
    "import numpy as np\n",
    "\n",
    "# vizualization libraries\n",
    "from matplotlib import pyplot as plt\n",
    "%matplotlib inline\n",
    "import seaborn as sns\n",
    "\n",
    "from sklearn.model_selection import train_test_split\n",
    "from sklearn import preprocessing\n",
    "from sklearn.preprocessing import OneHotEncoder\n",
    "from sklearn.preprocessing import LabelEncoder\n",
    "from sklearn import linear_model\n",
    "from sklearn.metrics import mean_squared_error,r2_score\n",
    "from sklearn.utils import shuffle\n",
    "from sklearn.model_selection import KFold\n",
    "from sklearn.model_selection import StratifiedShuffleSplit\n",
    "from sklearn.model_selection import cross_val_score\n",
    "from sklearn.linear_model import lasso_path\n"
   ]
  },
  {
   "cell_type": "code",
   "execution_count": 2,
   "metadata": {
    "collapsed": true
   },
   "outputs": [],
   "source": [
    "# Reading file\n",
    "patients = pd.read_csv(\"patients.csv\")"
   ]
  },
  {
   "cell_type": "code",
   "execution_count": 4,
   "metadata": {
    "scrolled": true
   },
   "outputs": [
    {
     "data": {
      "text/html": [
       "<div>\n",
       "<style>\n",
       "    .dataframe thead tr:only-child th {\n",
       "        text-align: right;\n",
       "    }\n",
       "\n",
       "    .dataframe thead th {\n",
       "        text-align: left;\n",
       "    }\n",
       "\n",
       "    .dataframe tbody tr th {\n",
       "        vertical-align: top;\n",
       "    }\n",
       "</style>\n",
       "<table border=\"1\" class=\"dataframe\">\n",
       "  <thead>\n",
       "    <tr style=\"text-align: right;\">\n",
       "      <th></th>\n",
       "      <th>Age</th>\n",
       "      <th>Diastolic</th>\n",
       "      <th>Gender</th>\n",
       "      <th>Height</th>\n",
       "      <th>LastName</th>\n",
       "      <th>Location</th>\n",
       "      <th>SelfAssessedHealthStatus</th>\n",
       "      <th>Smoker</th>\n",
       "      <th>Systolic</th>\n",
       "      <th>Weight</th>\n",
       "    </tr>\n",
       "  </thead>\n",
       "  <tbody>\n",
       "    <tr>\n",
       "      <th>0</th>\n",
       "      <td>38</td>\n",
       "      <td>93</td>\n",
       "      <td>'Male'</td>\n",
       "      <td>71</td>\n",
       "      <td>'Smith'</td>\n",
       "      <td>'County General Hospital'</td>\n",
       "      <td>'Excellent'</td>\n",
       "      <td>1</td>\n",
       "      <td>124</td>\n",
       "      <td>176</td>\n",
       "    </tr>\n",
       "    <tr>\n",
       "      <th>1</th>\n",
       "      <td>43</td>\n",
       "      <td>77</td>\n",
       "      <td>'Male'</td>\n",
       "      <td>69</td>\n",
       "      <td>'Johnson'</td>\n",
       "      <td>'VA Hospital'</td>\n",
       "      <td>'Fair'</td>\n",
       "      <td>0</td>\n",
       "      <td>109</td>\n",
       "      <td>163</td>\n",
       "    </tr>\n",
       "    <tr>\n",
       "      <th>2</th>\n",
       "      <td>38</td>\n",
       "      <td>83</td>\n",
       "      <td>'Female'</td>\n",
       "      <td>64</td>\n",
       "      <td>'Williams'</td>\n",
       "      <td>'St. Mary's Medical Center'</td>\n",
       "      <td>'Good'</td>\n",
       "      <td>0</td>\n",
       "      <td>125</td>\n",
       "      <td>131</td>\n",
       "    </tr>\n",
       "    <tr>\n",
       "      <th>3</th>\n",
       "      <td>40</td>\n",
       "      <td>75</td>\n",
       "      <td>'Female'</td>\n",
       "      <td>67</td>\n",
       "      <td>'Jones'</td>\n",
       "      <td>'VA Hospital'</td>\n",
       "      <td>'Fair'</td>\n",
       "      <td>0</td>\n",
       "      <td>117</td>\n",
       "      <td>133</td>\n",
       "    </tr>\n",
       "    <tr>\n",
       "      <th>4</th>\n",
       "      <td>49</td>\n",
       "      <td>80</td>\n",
       "      <td>'Female'</td>\n",
       "      <td>64</td>\n",
       "      <td>'Brown'</td>\n",
       "      <td>'County General Hospital'</td>\n",
       "      <td>'Good'</td>\n",
       "      <td>0</td>\n",
       "      <td>122</td>\n",
       "      <td>119</td>\n",
       "    </tr>\n",
       "  </tbody>\n",
       "</table>\n",
       "</div>"
      ],
      "text/plain": [
       "   Age  Diastolic    Gender  Height    LastName                     Location  \\\n",
       "0   38         93    'Male'      71     'Smith'    'County General Hospital'   \n",
       "1   43         77    'Male'      69   'Johnson'                'VA Hospital'   \n",
       "2   38         83  'Female'      64  'Williams'  'St. Mary's Medical Center'   \n",
       "3   40         75  'Female'      67     'Jones'                'VA Hospital'   \n",
       "4   49         80  'Female'      64     'Brown'    'County General Hospital'   \n",
       "\n",
       "  SelfAssessedHealthStatus  Smoker  Systolic  Weight  \n",
       "0              'Excellent'       1       124     176  \n",
       "1                   'Fair'       0       109     163  \n",
       "2                   'Good'       0       125     131  \n",
       "3                   'Fair'       0       117     133  \n",
       "4                   'Good'       0       122     119  "
      ]
     },
     "execution_count": 4,
     "metadata": {},
     "output_type": "execute_result"
    }
   ],
   "source": [
    "patients.head()"
   ]
  },
  {
   "cell_type": "code",
   "execution_count": 5,
   "metadata": {
    "scrolled": false
   },
   "outputs": [
    {
     "name": "stdout",
     "output_type": "stream",
     "text": [
      "<class 'pandas.core.frame.DataFrame'>\n",
      "RangeIndex: 100 entries, 0 to 99\n",
      "Data columns (total 10 columns):\n",
      "Age                         100 non-null int64\n",
      "Diastolic                   100 non-null int64\n",
      "Gender                      100 non-null object\n",
      "Height                      100 non-null int64\n",
      "LastName                    100 non-null object\n",
      "Location                    100 non-null object\n",
      "SelfAssessedHealthStatus    100 non-null object\n",
      "Smoker                      100 non-null int64\n",
      "Systolic                    100 non-null int64\n",
      "Weight                      100 non-null int64\n",
      "dtypes: int64(6), object(4)\n",
      "memory usage: 7.9+ KB\n"
     ]
    }
   ],
   "source": [
    "patients.info()"
   ]
  },
  {
   "cell_type": "code",
   "execution_count": 6,
   "metadata": {
    "collapsed": true
   },
   "outputs": [],
   "source": [
    "patients = patients[[\"Age\",\"Gender\",\"Height\",\"Weight\",\"Smoker\",\"Location\",\"SelfAssessedHealthStatus\",\"Systolic\"]]"
   ]
  },
  {
   "cell_type": "code",
   "execution_count": 7,
   "metadata": {
    "collapsed": true
   },
   "outputs": [],
   "source": [
    "#Splitting data into predictors and target variable\n",
    "X = patients[[\"Age\",\"Gender\",\"Height\",\"Weight\",\"Smoker\",\"Location\",\"SelfAssessedHealthStatus\"]]\n",
    "Y = patients['Systolic']"
   ]
  },
  {
   "cell_type": "markdown",
   "metadata": {},
   "source": [
    "### Preprocessing -  Converting categorical variables into dummy variables "
   ]
  },
  {
   "cell_type": "code",
   "execution_count": 8,
   "metadata": {
    "collapsed": true
   },
   "outputs": [],
   "source": [
    "# Using Label Encoder to convert string into int. \n",
    "le_gender = LabelEncoder()\n",
    "le_smoker = LabelEncoder()\n",
    "le_location = LabelEncoder()\n",
    "le_status = LabelEncoder()\n",
    "X['Gender_encoded'] = le_gender.fit_transform(X.Gender)\n",
    "X['Smoker_encoded'] = le_smoker.fit_transform(X.Smoker)\n",
    "X['Location_encoded'] = le_location.fit_transform(X.Location)\n",
    "X['Status_encoded'] = le_status.fit_transform(X.SelfAssessedHealthStatus)"
   ]
  },
  {
   "cell_type": "code",
   "execution_count": 9,
   "metadata": {
    "collapsed": true
   },
   "outputs": [],
   "source": [
    "#Create dummy variables\n",
    "Smoker_dum = pd.get_dummies(X.Smoker,drop_first=True)\n",
    "Gender_dum = pd.get_dummies(X.Gender,drop_first=True)\n",
    "Location_dum = pd.get_dummies(X.Location,drop_first=True)\n",
    "Status_dum = pd.get_dummies(X.SelfAssessedHealthStatus,drop_first=True)"
   ]
  },
  {
   "cell_type": "code",
   "execution_count": 10,
   "metadata": {
    "collapsed": true
   },
   "outputs": [],
   "source": [
    "#Concatenate the dummy variables to the 'patients' dataframe\n",
    "X = pd.concat([X,Smoker_dum,Gender_dum,Location_dum,Status_dum],axis=1)"
   ]
  },
  {
   "cell_type": "code",
   "execution_count": 11,
   "metadata": {
    "collapsed": true
   },
   "outputs": [],
   "source": [
    "#Dropping non required columns\n",
    "X = X.drop(['Gender','Smoker','Location','SelfAssessedHealthStatus','Gender_encoded','Smoker_encoded','Location_encoded','Status_encoded'],axis=1)"
   ]
  },
  {
   "cell_type": "code",
   "execution_count": 12,
   "metadata": {
    "collapsed": true
   },
   "outputs": [],
   "source": [
    "#Renaming '1' to 'Smoker' column name\n",
    "X.rename(columns={1: 'Smoker' },inplace=True)\n"
   ]
  },
  {
   "cell_type": "code",
   "execution_count": 13,
   "metadata": {
    "scrolled": true
   },
   "outputs": [
    {
     "data": {
      "text/html": [
       "<div>\n",
       "<style>\n",
       "    .dataframe thead tr:only-child th {\n",
       "        text-align: right;\n",
       "    }\n",
       "\n",
       "    .dataframe thead th {\n",
       "        text-align: left;\n",
       "    }\n",
       "\n",
       "    .dataframe tbody tr th {\n",
       "        vertical-align: top;\n",
       "    }\n",
       "</style>\n",
       "<table border=\"1\" class=\"dataframe\">\n",
       "  <thead>\n",
       "    <tr style=\"text-align: right;\">\n",
       "      <th></th>\n",
       "      <th>Age</th>\n",
       "      <th>Height</th>\n",
       "      <th>Weight</th>\n",
       "      <th>Smoker</th>\n",
       "      <th>'Male'</th>\n",
       "      <th>'St. Mary's Medical Center'</th>\n",
       "      <th>'VA Hospital'</th>\n",
       "      <th>'Fair'</th>\n",
       "      <th>'Good'</th>\n",
       "      <th>'Poor'</th>\n",
       "    </tr>\n",
       "  </thead>\n",
       "  <tbody>\n",
       "    <tr>\n",
       "      <th>0</th>\n",
       "      <td>38</td>\n",
       "      <td>71</td>\n",
       "      <td>176</td>\n",
       "      <td>1</td>\n",
       "      <td>1</td>\n",
       "      <td>0</td>\n",
       "      <td>0</td>\n",
       "      <td>0</td>\n",
       "      <td>0</td>\n",
       "      <td>0</td>\n",
       "    </tr>\n",
       "    <tr>\n",
       "      <th>1</th>\n",
       "      <td>43</td>\n",
       "      <td>69</td>\n",
       "      <td>163</td>\n",
       "      <td>0</td>\n",
       "      <td>1</td>\n",
       "      <td>0</td>\n",
       "      <td>1</td>\n",
       "      <td>1</td>\n",
       "      <td>0</td>\n",
       "      <td>0</td>\n",
       "    </tr>\n",
       "    <tr>\n",
       "      <th>2</th>\n",
       "      <td>38</td>\n",
       "      <td>64</td>\n",
       "      <td>131</td>\n",
       "      <td>0</td>\n",
       "      <td>0</td>\n",
       "      <td>1</td>\n",
       "      <td>0</td>\n",
       "      <td>0</td>\n",
       "      <td>1</td>\n",
       "      <td>0</td>\n",
       "    </tr>\n",
       "    <tr>\n",
       "      <th>3</th>\n",
       "      <td>40</td>\n",
       "      <td>67</td>\n",
       "      <td>133</td>\n",
       "      <td>0</td>\n",
       "      <td>0</td>\n",
       "      <td>0</td>\n",
       "      <td>1</td>\n",
       "      <td>1</td>\n",
       "      <td>0</td>\n",
       "      <td>0</td>\n",
       "    </tr>\n",
       "    <tr>\n",
       "      <th>4</th>\n",
       "      <td>49</td>\n",
       "      <td>64</td>\n",
       "      <td>119</td>\n",
       "      <td>0</td>\n",
       "      <td>0</td>\n",
       "      <td>0</td>\n",
       "      <td>0</td>\n",
       "      <td>0</td>\n",
       "      <td>1</td>\n",
       "      <td>0</td>\n",
       "    </tr>\n",
       "  </tbody>\n",
       "</table>\n",
       "</div>"
      ],
      "text/plain": [
       "   Age  Height  Weight  Smoker  'Male'  'St. Mary's Medical Center'  \\\n",
       "0   38      71     176       1       1                            0   \n",
       "1   43      69     163       0       1                            0   \n",
       "2   38      64     131       0       0                            1   \n",
       "3   40      67     133       0       0                            0   \n",
       "4   49      64     119       0       0                            0   \n",
       "\n",
       "   'VA Hospital'  'Fair'  'Good'  'Poor'  \n",
       "0              0       0       0       0  \n",
       "1              1       1       0       0  \n",
       "2              0       0       1       0  \n",
       "3              1       1       0       0  \n",
       "4              0       0       1       0  "
      ]
     },
     "execution_count": 13,
     "metadata": {},
     "output_type": "execute_result"
    }
   ],
   "source": [
    "X.head()"
   ]
  },
  {
   "cell_type": "markdown",
   "metadata": {},
   "source": [
    "### Preprocessing - Standardizing numeric variables"
   ]
  },
  {
   "cell_type": "code",
   "execution_count": 14,
   "metadata": {
    "collapsed": true
   },
   "outputs": [],
   "source": [
    "# Standardization of numeric data of training dataset\n",
    "scaler = preprocessing.StandardScaler().fit(X[[\"Age\",\"Height\",\"Weight\"]])\n"
   ]
  },
  {
   "cell_type": "code",
   "execution_count": 15,
   "metadata": {
    "scrolled": true
   },
   "outputs": [
    {
     "data": {
      "text/plain": [
       "array([  38.28,   67.07,  154.  ])"
      ]
     },
     "execution_count": 15,
     "metadata": {},
     "output_type": "execute_result"
    }
   ],
   "source": [
    "scaler.mean_"
   ]
  },
  {
   "cell_type": "code",
   "execution_count": 16,
   "metadata": {
    "scrolled": true
   },
   "outputs": [
    {
     "data": {
      "text/plain": [
       "array([  7.17924787,   2.82225087,  26.4382299 ])"
      ]
     },
     "execution_count": 16,
     "metadata": {},
     "output_type": "execute_result"
    }
   ],
   "source": [
    "scaler.scale_"
   ]
  },
  {
   "cell_type": "code",
   "execution_count": 17,
   "metadata": {
    "scrolled": true
   },
   "outputs": [
    {
     "name": "stdout",
     "output_type": "stream",
     "text": [
      "[ -1.57651669e-16   2.45692355e-15  -1.22124533e-17]\n",
      "[ 1.  1.  1.]\n"
     ]
    }
   ],
   "source": [
    "X_scaled = scaler.transform(X[[\"Age\",\"Height\",\"Weight\"]]) \n",
    "\n",
    "# printing mean and standard deviation of numeric columns - Age, Height and Weight\n",
    "print(X_scaled.mean(axis=0))\n",
    "print(X_scaled.std(axis=0))"
   ]
  },
  {
   "cell_type": "code",
   "execution_count": 18,
   "metadata": {
    "collapsed": true
   },
   "outputs": [],
   "source": [
    "#Now converting scaled numpy array into dataframe so that it can be merged back to main dataframe X_train\n",
    "columns = ['Age_s','Height_s','Weight_s']\n",
    "X_Scaled_df = pd.DataFrame(X_scaled.reshape(len(X_scaled),-1),columns=columns)"
   ]
  },
  {
   "cell_type": "code",
   "execution_count": 19,
   "metadata": {
    "collapsed": true
   },
   "outputs": [],
   "source": [
    "#Concatenating scaled data with main dataframe\n",
    "X = pd.concat([X,X_Scaled_df],axis=1) "
   ]
  },
  {
   "cell_type": "code",
   "execution_count": 20,
   "metadata": {
    "collapsed": true
   },
   "outputs": [],
   "source": [
    "#Dropping original numeric columns\n",
    "X = X.drop(['Age','Height','Weight'],axis=1)"
   ]
  },
  {
   "cell_type": "code",
   "execution_count": 21,
   "metadata": {
    "scrolled": true
   },
   "outputs": [
    {
     "data": {
      "text/html": [
       "<div>\n",
       "<style>\n",
       "    .dataframe thead tr:only-child th {\n",
       "        text-align: right;\n",
       "    }\n",
       "\n",
       "    .dataframe thead th {\n",
       "        text-align: left;\n",
       "    }\n",
       "\n",
       "    .dataframe tbody tr th {\n",
       "        vertical-align: top;\n",
       "    }\n",
       "</style>\n",
       "<table border=\"1\" class=\"dataframe\">\n",
       "  <thead>\n",
       "    <tr style=\"text-align: right;\">\n",
       "      <th></th>\n",
       "      <th>Smoker</th>\n",
       "      <th>'Male'</th>\n",
       "      <th>'St. Mary's Medical Center'</th>\n",
       "      <th>'VA Hospital'</th>\n",
       "      <th>'Fair'</th>\n",
       "      <th>'Good'</th>\n",
       "      <th>'Poor'</th>\n",
       "      <th>Age_s</th>\n",
       "      <th>Height_s</th>\n",
       "      <th>Weight_s</th>\n",
       "    </tr>\n",
       "  </thead>\n",
       "  <tbody>\n",
       "    <tr>\n",
       "      <th>0</th>\n",
       "      <td>1</td>\n",
       "      <td>1</td>\n",
       "      <td>0</td>\n",
       "      <td>0</td>\n",
       "      <td>0</td>\n",
       "      <td>0</td>\n",
       "      <td>0</td>\n",
       "      <td>-0.039001</td>\n",
       "      <td>1.392506</td>\n",
       "      <td>0.832128</td>\n",
       "    </tr>\n",
       "    <tr>\n",
       "      <th>1</th>\n",
       "      <td>0</td>\n",
       "      <td>1</td>\n",
       "      <td>0</td>\n",
       "      <td>1</td>\n",
       "      <td>1</td>\n",
       "      <td>0</td>\n",
       "      <td>0</td>\n",
       "      <td>0.657450</td>\n",
       "      <td>0.683851</td>\n",
       "      <td>0.340416</td>\n",
       "    </tr>\n",
       "    <tr>\n",
       "      <th>2</th>\n",
       "      <td>0</td>\n",
       "      <td>0</td>\n",
       "      <td>1</td>\n",
       "      <td>0</td>\n",
       "      <td>0</td>\n",
       "      <td>1</td>\n",
       "      <td>0</td>\n",
       "      <td>-0.039001</td>\n",
       "      <td>-1.087784</td>\n",
       "      <td>-0.869952</td>\n",
       "    </tr>\n",
       "    <tr>\n",
       "      <th>3</th>\n",
       "      <td>0</td>\n",
       "      <td>0</td>\n",
       "      <td>0</td>\n",
       "      <td>1</td>\n",
       "      <td>1</td>\n",
       "      <td>0</td>\n",
       "      <td>0</td>\n",
       "      <td>0.239579</td>\n",
       "      <td>-0.024803</td>\n",
       "      <td>-0.794304</td>\n",
       "    </tr>\n",
       "    <tr>\n",
       "      <th>4</th>\n",
       "      <td>0</td>\n",
       "      <td>0</td>\n",
       "      <td>0</td>\n",
       "      <td>0</td>\n",
       "      <td>0</td>\n",
       "      <td>1</td>\n",
       "      <td>0</td>\n",
       "      <td>1.493193</td>\n",
       "      <td>-1.087784</td>\n",
       "      <td>-1.323841</td>\n",
       "    </tr>\n",
       "  </tbody>\n",
       "</table>\n",
       "</div>"
      ],
      "text/plain": [
       "   Smoker  'Male'  'St. Mary's Medical Center'  'VA Hospital'  'Fair'  'Good'  \\\n",
       "0       1       1                            0              0       0       0   \n",
       "1       0       1                            0              1       1       0   \n",
       "2       0       0                            1              0       0       1   \n",
       "3       0       0                            0              1       1       0   \n",
       "4       0       0                            0              0       0       1   \n",
       "\n",
       "   'Poor'     Age_s  Height_s  Weight_s  \n",
       "0       0 -0.039001  1.392506  0.832128  \n",
       "1       0  0.657450  0.683851  0.340416  \n",
       "2       0 -0.039001 -1.087784 -0.869952  \n",
       "3       0  0.239579 -0.024803 -0.794304  \n",
       "4       0  1.493193 -1.087784 -1.323841  "
      ]
     },
     "execution_count": 21,
     "metadata": {},
     "output_type": "execute_result"
    }
   ],
   "source": [
    "#Final data\n",
    "X.head()"
   ]
  },
  {
   "cell_type": "markdown",
   "metadata": {
    "collapsed": true
   },
   "source": [
    "### Preprocessing - Splitting dataset into train and test data. "
   ]
  },
  {
   "cell_type": "code",
   "execution_count": 22,
   "metadata": {
    "collapsed": true
   },
   "outputs": [],
   "source": [
    "#Shuffling data\n",
    "X_shuffle, Y_shuffle = shuffle(X, Y, random_state=121)"
   ]
  },
  {
   "cell_type": "code",
   "execution_count": 23,
   "metadata": {
    "collapsed": true
   },
   "outputs": [],
   "source": [
    "#Splitting data into train and test data\n",
    "X_train, X_test, Y_train, Y_test = train_test_split(X_shuffle, Y_shuffle, test_size=0.20, random_state=121)"
   ]
  },
  {
   "cell_type": "markdown",
   "metadata": {},
   "source": [
    "#### Applying Lasso Linear Regression using LASSOCV:"
   ]
  },
  {
   "cell_type": "code",
   "execution_count": 24,
   "metadata": {
    "collapsed": true
   },
   "outputs": [],
   "source": [
    "# Lasso regression using 10 fold cross validation.\n",
    "from sklearn.linear_model import LassoCV\n",
    "reg = linear_model.LassoCV(cv=10,n_alphas=50).fit(X_train,Y_train)\n",
    "\n"
   ]
  },
  {
   "cell_type": "markdown",
   "metadata": {},
   "source": [
    "#### The output values after applying LASSOCV"
   ]
  },
  {
   "cell_type": "code",
   "execution_count": 25,
   "metadata": {
    "scrolled": false
   },
   "outputs": [
    {
     "name": "stdout",
     "output_type": "stream",
     "text": [
      "                      Features     Coeff\n",
      "0                       Smoker  8.933049\n",
      "1                       'Male' -0.000000\n",
      "2  'St. Mary's Medical Center'  0.000000\n",
      "3                'VA Hospital' -0.793871\n",
      "4                       'Fair' -1.673156\n",
      "5                       'Good'  0.000000\n",
      "6                       'Poor'  0.000000\n",
      "7                        Age_s  0.207068\n",
      "8                     Height_s  0.320888\n",
      "9                     Weight_s -0.000000\n"
     ]
    }
   ],
   "source": [
    "#Coefficients after Lasso \n",
    "print (pd.DataFrame(list(zip(X_train.columns, reg.coef_)),columns=['Features','Coeff']))"
   ]
  },
  {
   "cell_type": "markdown",
   "metadata": {},
   "source": [
    "Male, St. Mary's Medical Center,Good,Poor,Age.Weight variables are shrunk to 0"
   ]
  },
  {
   "cell_type": "code",
   "execution_count": 26,
   "metadata": {
    "scrolled": true
   },
   "outputs": [
    {
     "data": {
      "text/plain": [
       "LassoCV(alphas=None, copy_X=True, cv=10, eps=0.001, fit_intercept=True,\n",
       "    max_iter=1000, n_alphas=50, n_jobs=1, normalize=False, positive=False,\n",
       "    precompute='auto', random_state=None, selection='cyclic', tol=0.0001,\n",
       "    verbose=False)"
      ]
     },
     "execution_count": 26,
     "metadata": {},
     "output_type": "execute_result"
    }
   ],
   "source": [
    "# model parameters applied\n",
    "reg"
   ]
  },
  {
   "cell_type": "code",
   "execution_count": 27,
   "metadata": {},
   "outputs": [
    {
     "data": {
      "text/plain": [
       "120.65146863547004"
      ]
     },
     "execution_count": 27,
     "metadata": {},
     "output_type": "execute_result"
    }
   ],
   "source": [
    "#The intercept value ( Theta 0)\n",
    "reg.intercept_"
   ]
  },
  {
   "cell_type": "code",
   "execution_count": 28,
   "metadata": {
    "scrolled": false
   },
   "outputs": [
    {
     "data": {
      "text/plain": [
       "array([ 2.32875   ,  2.02254586,  1.75660408,  1.52563063,  1.32502755,\n",
       "        1.1508015 ,  0.99948419,  0.86806339,  0.75392293,  0.65479064,\n",
       "        0.56869311,  0.49391644,  0.42897204,  0.3725671 ,  0.32357876,\n",
       "        0.28103184,  0.24407935,  0.21198569,  0.18411198,  0.15990335,\n",
       "        0.13887788,  0.12061702,  0.10475725,  0.09098286,  0.07901965,\n",
       "        0.06862947,  0.05960547,  0.05176803,  0.04496112,  0.03904925,\n",
       "        0.03391472,  0.02945532,  0.02558228,  0.0222185 ,  0.01929702,\n",
       "        0.01675968,  0.01455597,  0.01264203,  0.01097975,  0.00953603,\n",
       "        0.00828215,  0.00719314,  0.00624733,  0.00542588,  0.00471243,\n",
       "        0.0040928 ,  0.00355465,  0.00308725,  0.00268131,  0.00232875])"
      ]
     },
     "execution_count": 28,
     "metadata": {},
     "output_type": "execute_result"
    }
   ],
   "source": [
    "#The grid of alphas used by algorithm\n",
    "reg.alphas_\n"
   ]
  },
  {
   "cell_type": "code",
   "execution_count": 29,
   "metadata": {},
   "outputs": [
    {
     "data": {
      "text/plain": [
       "0.24407934611627247"
      ]
     },
     "execution_count": 29,
     "metadata": {},
     "output_type": "execute_result"
    }
   ],
   "source": [
    "#The suggested alpha value\n",
    "a = reg.alphas_[16]\n",
    "a"
   ]
  },
  {
   "cell_type": "code",
   "execution_count": 30,
   "metadata": {},
   "outputs": [
    {
     "data": {
      "text/plain": [
       "0.24407934611627247"
      ]
     },
     "execution_count": 30,
     "metadata": {},
     "output_type": "execute_result"
    }
   ],
   "source": [
    "#The smount of penalization chosen by cross validation\n",
    "reg.alpha_"
   ]
  },
  {
   "cell_type": "code",
   "execution_count": 31,
   "metadata": {},
   "outputs": [
    {
     "data": {
      "text/plain": [
       "array([ 8.93304935, -0.        ,  0.        , -0.79387096, -1.67315585,\n",
       "        0.        ,  0.        ,  0.2070684 ,  0.32088755, -0.        ])"
      ]
     },
     "execution_count": 31,
     "metadata": {},
     "output_type": "execute_result"
    }
   ],
   "source": [
    "#the final coefs after lasso regularization\n",
    "reg.coef_"
   ]
  },
  {
   "cell_type": "code",
   "execution_count": 33,
   "metadata": {
    "scrolled": false
   },
   "outputs": [
    {
     "data": {
      "text/plain": [
       "0.61246896883039481"
      ]
     },
     "execution_count": 33,
     "metadata": {},
     "output_type": "execute_result"
    }
   ],
   "source": [
    "# The suggested alpha value after transformation\n",
    "m_log_alphas = -np.log10(reg.alphas_)\n",
    "m_log_alphas[16]"
   ]
  },
  {
   "cell_type": "code",
   "execution_count": 34,
   "metadata": {
    "scrolled": true
   },
   "outputs": [
    {
     "data": {
      "image/png": "[encoded data removed]",
      "text/plain": [
       "<matplotlib.figure.Figure at 0x108a86390>"
      ]
     },
     "metadata": {},
     "output_type": "display_data"
    }
   ],
   "source": [
    "# Plotting MSE vs alphas\n",
    "fig, ax = plt.subplots(figsize=(10,8))\n",
    "plt.plot(m_log_alphas, reg.mse_path_, ':')\n",
    "plt.plot(m_log_alphas, reg.mse_path_.mean(axis=-1), 'k',\n",
    "         label='Average across the folds', linewidth=2)\n",
    "plt.axvline(-np.log10(reg.alpha_), linestyle='--', color='k',\n",
    "            label='alpha: CV estimate')\n",
    "plt.legend()\n",
    "plt.xlabel('-log(alpha)')\n",
    "plt.ylabel('Mean square error')\n",
    "plt.title('Mean square error on each fold: coordinate descent ')         \n",
    "plt.axis('tight')\n",
    "plt.show()\n",
    "\n",
    "\n",
    "\n"
   ]
  },
  {
   "cell_type": "markdown",
   "metadata": {},
   "source": [
    "##### This graph shows the mean squared error of every fold with dotted line and average mean squared error of k fold is shown in solid line.\n",
    "The Vertical dotted black line choose optimum point having lowest bias and variance and this\n",
    "is used as lambda penalty for shrinking coefficient. Log transformation is applied to reg.alpha to make it easily understandable"
   ]
  },
  {
   "cell_type": "code",
   "execution_count": 120,
   "metadata": {
    "collapsed": true
   },
   "outputs": [],
   "source": [
    "### Used LassoLarsCV model for lasso regularization and feature selection"
   ]
  },
  {
   "cell_type": "code",
   "execution_count": 99,
   "metadata": {
    "collapsed": true
   },
   "outputs": [],
   "source": [
    "from sklearn.linear_model import LassoLarsCV \n",
    "reg_lars = linear_model.LassoLarsCV(cv=10,max_n_alphas=50).fit(X_train,Y_train)\n"
   ]
  },
  {
   "cell_type": "code",
   "execution_count": 100,
   "metadata": {
    "scrolled": false
   },
   "outputs": [
    {
     "name": "stdout",
     "output_type": "stream",
     "text": [
      "                      Features     Coeff\n",
      "0                       Smoker  8.398610\n",
      "1                       'Male'  0.000000\n",
      "2  'St. Mary's Medical Center'  0.000000\n",
      "3                'VA Hospital'  0.000000\n",
      "4                       'Fair' -1.417348\n",
      "5                       'Good'  0.000000\n",
      "6                       'Poor'  0.000000\n",
      "7                        Age_s  0.000000\n",
      "8                     Height_s  0.000000\n",
      "9                     Weight_s  0.000000\n"
     ]
    }
   ],
   "source": [
    "print (pd.DataFrame(list(zip(X_train.columns, reg_lars.coef_)),columns=['Features','Coeff']))"
   ]
  },
  {
   "cell_type": "code",
   "execution_count": 101,
   "metadata": {
    "scrolled": true
   },
   "outputs": [
    {
     "data": {
      "text/plain": [
       "0.093012757420789391"
      ]
     },
     "execution_count": 101,
     "metadata": {},
     "output_type": "execute_result"
    }
   ],
   "source": [
    "reg_lars.alpha_"
   ]
  },
  {
   "cell_type": "code",
   "execution_count": 102,
   "metadata": {
    "scrolled": false
   },
   "outputs": [
    {
     "data": {
      "text/plain": [
       "array([ 0.54586742,  0.15457933,  0.09301276])"
      ]
     },
     "execution_count": 102,
     "metadata": {},
     "output_type": "execute_result"
    }
   ],
   "source": [
    "reg_lars.alphas_"
   ]
  },
  {
   "cell_type": "code",
   "execution_count": 103,
   "metadata": {
    "collapsed": true
   },
   "outputs": [],
   "source": [
    "\n",
    "a = reg_lars.cv_alphas_\n"
   ]
  },
  {
   "cell_type": "code",
   "execution_count": 104,
   "metadata": {},
   "outputs": [
    {
     "data": {
      "text/plain": [
       "0.093012757420789391"
      ]
     },
     "execution_count": 104,
     "metadata": {},
     "output_type": "execute_result"
    }
   ],
   "source": [
    "#The suggested alpha value  (reg_lars.alpha_)\n",
    "a[38]"
   ]
  },
  {
   "cell_type": "code",
   "execution_count": null,
   "metadata": {},
   "outputs": [],
   "source": [
    "\n",
    "m_log_alphascv = -np.log10(reg_lars.cv_alphas_)\n",
    "m_log_alphascv[38]"
   ]
  },
  {
   "cell_type": "code",
   "execution_count": 236,
   "metadata": {
    "scrolled": true
   },
   "outputs": [
    {
     "data": {
      "text/plain": [
       "array([[  0.        ,  31.3030472 ,  35.82969505],\n",
       "       [  0.        ,   0.        ,   0.        ],\n",
       "       [  0.        ,   0.        ,   0.        ],\n",
       "       [  0.        ,   0.        ,   0.        ],\n",
       "       [  0.        ,   0.        ,  -4.52664786],\n",
       "       [  0.        ,   0.        ,   0.        ],\n",
       "       [  0.        ,   0.        ,   0.        ],\n",
       "       [  0.        ,   0.        ,   0.        ],\n",
       "       [  0.        ,   0.        ,   0.        ],\n",
       "       [  0.        ,   0.        ,   0.        ]])"
      ]
     },
     "execution_count": 236,
     "metadata": {},
     "output_type": "execute_result"
    }
   ],
   "source": [
    "reg_lars.coef_path_"
   ]
  },
  {
   "cell_type": "code",
   "execution_count": 106,
   "metadata": {},
   "outputs": [
    {
     "data": {
      "image/png": "[encoded data removed]",
      "text/plain": [
       "<matplotlib.figure.Figure at 0x1a12f84a90>"
      ]
     },
     "metadata": {},
     "output_type": "display_data"
    }
   ],
   "source": [
    "#plot mean square error for each fold\n",
    "#fig, ax = plt.subplots(figsize=(30,6))\n",
    "\n",
    "\n",
    "\n",
    "plt.figure()\n",
    "plt.plot(m_log_alphascv, reg_lars.mse_path_, ':')\n",
    "plt.plot(m_log_alphascv, reg_lars.mse_path_.mean(axis=-1), 'k',\n",
    "        label='Average across the folds', linewidth=2)\n",
    "plt.axvline(-np.log10(reg_lars.alpha_), linestyle='--', color='k',\n",
    "        label='alpha CV')\n",
    "plt.legend()\n",
    "plt.xlabel('-log(alpha)')\n",
    "plt.ylabel('Mean squared error')\n",
    "plt.title('Mean squared error on each fold')\n",
    "xmin = 0.1\n",
    "xmax = 1.0\n",
    "plt.xlim([0.1, 1.4])\n",
    "xmin, xmax = plt.xlim()\n",
    "plt.axis('tight')\n",
    "plt.show()\n"
   ]
  },
  {
   "cell_type": "markdown",
   "metadata": {},
   "source": [
    "This graph shows the mean squared error of every fold with dotted \n",
    "line and average mean squared error of k fold is shown in solid line.\n",
    "The Vertical dotted black line choose optimum point having lowest bias and variance \n",
    "and this is used as  lambda penalty for shrinking coefficient.Transformation \n",
    "is applied to reg_lars.alpha_ to make it easily understandable"
   ]
  },
  {
   "cell_type": "code",
   "execution_count": 107,
   "metadata": {
    "scrolled": true
   },
   "outputs": [
    {
     "data": {
      "image/png": "[encoded data removed]",
      "text/plain": [
       "<matplotlib.figure.Figure at 0x1a12cf8b38>"
      ]
     },
     "metadata": {},
     "output_type": "display_data"
    }
   ],
   "source": [
    "# plot coefficient progression\n",
    "m_log_alphas = -np.log10(reg_lars.alphas_)\n",
    "ax = plt.gca()\n",
    "plt.plot(m_log_alphas, reg_lars.coef_path_.T)\n",
    "plt.axvline(-np.log10(reg_lars.alpha_), linestyle= 'dotted', color='k',\n",
    "label='alpha CV')\n",
    "plt.ylabel('Regression Coefficients')\n",
    "plt.legend()\n",
    "plt.xlabel('log alpha')\n",
    "plt.title('Regression Coefficients Progression for Lasso Paths')\n",
    "plt.show()"
   ]
  },
  {
   "cell_type": "code",
   "execution_count": 110,
   "metadata": {},
   "outputs": [],
   "source": [
    "#In LassoLarCV:\n",
    "    \n",
    "#The alpha value suggested is : 0.09301 ( The transformed value is 1.031 )"
   ]
  },
  {
   "cell_type": "code",
   "execution_count": 111,
   "metadata": {},
   "outputs": [
    {
     "name": "stdout",
     "output_type": "stream",
     "text": [
      "                      Features     Coeff\n",
      "0                       Smoker  8.398610\n",
      "1                       'Male'  0.000000\n",
      "2  'St. Mary's Medical Center'  0.000000\n",
      "3                'VA Hospital'  0.000000\n",
      "4                       'Fair' -1.417348\n",
      "5                       'Good'  0.000000\n",
      "6                       'Poor'  0.000000\n",
      "7                        Age_s  0.000000\n",
      "8                     Height_s  0.000000\n",
      "9                     Weight_s  0.000000\n"
     ]
    }
   ],
   "source": [
    "#Let us try to build a model using this alpha value 0.09301\n",
    "from sklearn.model_selection import cross_val_score\n",
    "lars_fit = linear_model.LassoLars(alpha=0.093012757420789391).fit(X_train,Y_train)\n",
    "lars_fit.fit(X_train,Y_train)\n",
    "score = cross_val_score(lars_fit,X_train,Y_train,cv=10)\n",
    "\n",
    "print (pd.DataFrame(list(zip(X_train.columns, lars_fit.coef_)),columns=['Features','Coeff']))\n"
   ]
  },
  {
   "cell_type": "code",
   "execution_count": 112,
   "metadata": {},
   "outputs": [],
   "source": [
    "lars_pred = lars_fit.predict(X_test)"
   ]
  },
  {
   "cell_type": "code",
   "execution_count": 118,
   "metadata": {
    "scrolled": true
   },
   "outputs": [
    {
     "name": "stdout",
     "output_type": "stream",
     "text": [
      "MAE test:  3.58477279817\n",
      "MAE train:  3.89013564357\n",
      "MSE test:  18.3237426142\n",
      "MSE train:  23.3067329744\n",
      "RMSE test:  4.28062409167\n",
      "RMSE train:  4.82770473149\n"
     ]
    }
   ],
   "source": [
    "from sklearn import metrics\n",
    "MAE_test = metrics.mean_absolute_error(Y_test, lars_pred)\n",
    "MAE_train = metrics.mean_absolute_error(Y_train, lars_fit.predict(X_train))\n",
    "print(\"MAE test: \",MAE_test)\n",
    "print(\"MAE train: \",MAE_train)\n",
    "MSE_test = metrics.mean_squared_error(Y_test, lars_pred)\n",
    "MSE_train = metrics.mean_squared_error(Y_train, lars_fit.predict(X_train))\n",
    "print(\"MSE test: \",MSE_test)\n",
    "print(\"MSE train: \",MSE_train)\n",
    "RMSE_test = np.sqrt(MSE_test)\n",
    "RMSE_train = np.sqrt(MSE_train)\n",
    "print(\"RMSE test: \",RMSE_test)\n",
    "print(\"RMSE train: \",RMSE_train)"
   ]
  }
 ],
 "metadata": {
  "kernelspec": {
   "display_name": "Python 3",
   "language": "python",
   "name": "python3"
  },
  "language_info": {
   "codemirror_mode": {
    "name": "ipython",
    "version": 3
   },
   "file_extension": ".py",
   "mimetype": "text/x-python",
   "name": "python",
   "nbconvert_exporter": "python",
   "pygments_lexer": "ipython3",
   "version": "3.6.3"
  }
 },
 "nbformat": 4,
 "nbformat_minor": 2
}
