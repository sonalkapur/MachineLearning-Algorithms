{
 "cells": [
  {
   "cell_type": "markdown",
   "metadata": {},
   "source": [
    "###                                                                             Logistic Regression \n",
    "    Steps:\n",
    "1. Preprocessing the data \n",
    "2. Lasso Regularization\n",
    "3. Training the model and\n",
    "4. Predicting the new data and performing quality evaluation using ROC curve, Precision Recall Curve ,Accuracy and Confusion Matrix"
   ]
  },
  {
   "cell_type": "code",
   "execution_count": 1,
   "metadata": {
    "collapsed": true
   },
   "outputs": [],
   "source": [
    "# importing required libraries\n",
    "import pandas as pd\n",
    "import numpy as np\n",
    "from matplotlib import pyplot as plt\n",
    "%matplotlib inline\n",
    "import seaborn as sns\n",
    "\n",
    "from sklearn.model_selection import train_test_split\n",
    "from sklearn.model_selection import cross_val_score\n",
    "from sklearn import preprocessing\n",
    "from sklearn.utils import shuffle\n",
    "from sklearn.metrics import accuracy_score,classification_report,confusion_matrix\n",
    "\n",
    "from sklearn.linear_model import LogisticRegression\n",
    "import glmnet\n",
    "import scikitplot as skplt\n",
    "\n"
   ]
  },
  {
   "cell_type": "code",
   "execution_count": 3,
   "metadata": {
    "collapsed": true
   },
   "outputs": [],
   "source": [
    "# reading csv file\n",
    "cells = pd.read_csv('CellDNA.csv',header=None)"
   ]
  },
  {
   "cell_type": "code",
   "execution_count": 4,
   "metadata": {
    "scrolled": true
   },
   "outputs": [
    {
     "data": {
      "text/html": [
       "<div>\n",
       "<style>\n",
       "    .dataframe thead tr:only-child th {\n",
       "        text-align: right;\n",
       "    }\n",
       "\n",
       "    .dataframe thead th {\n",
       "        text-align: left;\n",
       "    }\n",
       "\n",
       "    .dataframe tbody tr th {\n",
       "        vertical-align: top;\n",
       "    }\n",
       "</style>\n",
       "<table border=\"1\" class=\"dataframe\">\n",
       "  <thead>\n",
       "    <tr style=\"text-align: right;\">\n",
       "      <th></th>\n",
       "      <th>0</th>\n",
       "      <th>1</th>\n",
       "      <th>2</th>\n",
       "      <th>3</th>\n",
       "      <th>4</th>\n",
       "      <th>5</th>\n",
       "      <th>6</th>\n",
       "      <th>7</th>\n",
       "      <th>8</th>\n",
       "      <th>9</th>\n",
       "      <th>10</th>\n",
       "      <th>11</th>\n",
       "      <th>12</th>\n",
       "      <th>13</th>\n",
       "    </tr>\n",
       "  </thead>\n",
       "  <tbody>\n",
       "    <tr>\n",
       "      <th>0</th>\n",
       "      <td>222</td>\n",
       "      <td>31.189189</td>\n",
       "      <td>40.342342</td>\n",
       "      <td>35.579087</td>\n",
       "      <td>8.883917</td>\n",
       "      <td>0.968325</td>\n",
       "      <td>-80.113673</td>\n",
       "      <td>222</td>\n",
       "      <td>1</td>\n",
       "      <td>16.812471</td>\n",
       "      <td>0.816176</td>\n",
       "      <td>0.578125</td>\n",
       "      <td>78.591</td>\n",
       "      <td>0</td>\n",
       "    </tr>\n",
       "    <tr>\n",
       "      <th>1</th>\n",
       "      <td>73</td>\n",
       "      <td>29.493151</td>\n",
       "      <td>271.397260</td>\n",
       "      <td>15.517202</td>\n",
       "      <td>6.407490</td>\n",
       "      <td>0.910764</td>\n",
       "      <td>76.042946</td>\n",
       "      <td>73</td>\n",
       "      <td>1</td>\n",
       "      <td>9.640876</td>\n",
       "      <td>0.858824</td>\n",
       "      <td>0.608333</td>\n",
       "      <td>39.217</td>\n",
       "      <td>0</td>\n",
       "    </tr>\n",
       "    <tr>\n",
       "      <th>2</th>\n",
       "      <td>256</td>\n",
       "      <td>58.816406</td>\n",
       "      <td>289.941406</td>\n",
       "      <td>37.226013</td>\n",
       "      <td>9.863895</td>\n",
       "      <td>0.964256</td>\n",
       "      <td>85.324742</td>\n",
       "      <td>256</td>\n",
       "      <td>1</td>\n",
       "      <td>18.054067</td>\n",
       "      <td>0.752941</td>\n",
       "      <td>0.562637</td>\n",
       "      <td>89.111</td>\n",
       "      <td>0</td>\n",
       "    </tr>\n",
       "    <tr>\n",
       "      <th>3</th>\n",
       "      <td>126</td>\n",
       "      <td>71.023810</td>\n",
       "      <td>477.412698</td>\n",
       "      <td>13.112980</td>\n",
       "      <td>12.790672</td>\n",
       "      <td>0.220351</td>\n",
       "      <td>63.523477</td>\n",
       "      <td>126</td>\n",
       "      <td>1</td>\n",
       "      <td>12.666025</td>\n",
       "      <td>0.881119</td>\n",
       "      <td>0.646154</td>\n",
       "      <td>43.832</td>\n",
       "      <td>0</td>\n",
       "    </tr>\n",
       "    <tr>\n",
       "      <th>4</th>\n",
       "      <td>225</td>\n",
       "      <td>90.808889</td>\n",
       "      <td>541.946667</td>\n",
       "      <td>44.463110</td>\n",
       "      <td>7.858879</td>\n",
       "      <td>0.984256</td>\n",
       "      <td>-52.874983</td>\n",
       "      <td>225</td>\n",
       "      <td>1</td>\n",
       "      <td>16.925688</td>\n",
       "      <td>0.728155</td>\n",
       "      <td>0.252525</td>\n",
       "      <td>90.072</td>\n",
       "      <td>7</td>\n",
       "    </tr>\n",
       "  </tbody>\n",
       "</table>\n",
       "</div>"
      ],
      "text/plain": [
       "    0          1           2          3          4         5          6    7   \\\n",
       "0  222  31.189189   40.342342  35.579087   8.883917  0.968325 -80.113673  222   \n",
       "1   73  29.493151  271.397260  15.517202   6.407490  0.910764  76.042946   73   \n",
       "2  256  58.816406  289.941406  37.226013   9.863895  0.964256  85.324742  256   \n",
       "3  126  71.023810  477.412698  13.112980  12.790672  0.220351  63.523477  126   \n",
       "4  225  90.808889  541.946667  44.463110   7.858879  0.984256 -52.874983  225   \n",
       "\n",
       "   8          9         10        11      12  13  \n",
       "0   1  16.812471  0.816176  0.578125  78.591   0  \n",
       "1   1   9.640876  0.858824  0.608333  39.217   0  \n",
       "2   1  18.054067  0.752941  0.562637  89.111   0  \n",
       "3   1  12.666025  0.881119  0.646154  43.832   0  \n",
       "4   1  16.925688  0.728155  0.252525  90.072   7  "
      ]
     },
     "execution_count": 4,
     "metadata": {},
     "output_type": "execute_result"
    }
   ],
   "source": [
    "cells.head()"
   ]
  },
  {
   "cell_type": "code",
   "execution_count": 5,
   "metadata": {
    "scrolled": false
   },
   "outputs": [
    {
     "data": {
      "text/plain": [
       "0     1017\n",
       "10      20\n",
       "9       20\n",
       "8       20\n",
       "7       20\n",
       "6       20\n",
       "5       20\n",
       "4       20\n",
       "3       20\n",
       "2       20\n",
       "1       20\n",
       "Name: 13, dtype: int64"
      ]
     },
     "execution_count": 5,
     "metadata": {},
     "output_type": "execute_result"
    }
   ],
   "source": [
    "# Checking count of labels\n",
    "cells.iloc[:,13].value_counts()"
   ]
  },
  {
   "cell_type": "code",
   "execution_count": 6,
   "metadata": {
    "collapsed": true
   },
   "outputs": [],
   "source": [
    "#Making this dataset into a binary classifiaction with 0 representing non interesting bacterium and 1 representing interesting bacterium\n",
    "def make_class1(i):\n",
    "    if i >=1:\n",
    "        return 1\n",
    "    else:\n",
    "        return 0\n",
    "\n",
    "cells.iloc[:,13] = cells.iloc[:,13].apply(make_class1)\n",
    "    "
   ]
  },
  {
   "cell_type": "code",
   "execution_count": 7,
   "metadata": {
    "scrolled": true
   },
   "outputs": [
    {
     "data": {
      "text/html": [
       "<div>\n",
       "<style>\n",
       "    .dataframe thead tr:only-child th {\n",
       "        text-align: right;\n",
       "    }\n",
       "\n",
       "    .dataframe thead th {\n",
       "        text-align: left;\n",
       "    }\n",
       "\n",
       "    .dataframe tbody tr th {\n",
       "        vertical-align: top;\n",
       "    }\n",
       "</style>\n",
       "<table border=\"1\" class=\"dataframe\">\n",
       "  <thead>\n",
       "    <tr style=\"text-align: right;\">\n",
       "      <th></th>\n",
       "      <th>0</th>\n",
       "      <th>1</th>\n",
       "      <th>2</th>\n",
       "      <th>3</th>\n",
       "      <th>4</th>\n",
       "      <th>5</th>\n",
       "      <th>6</th>\n",
       "      <th>7</th>\n",
       "      <th>8</th>\n",
       "      <th>9</th>\n",
       "      <th>10</th>\n",
       "      <th>11</th>\n",
       "      <th>12</th>\n",
       "      <th>13</th>\n",
       "    </tr>\n",
       "  </thead>\n",
       "  <tbody>\n",
       "    <tr>\n",
       "      <th>0</th>\n",
       "      <td>222</td>\n",
       "      <td>31.189189</td>\n",
       "      <td>40.342342</td>\n",
       "      <td>35.579087</td>\n",
       "      <td>8.883917</td>\n",
       "      <td>0.968325</td>\n",
       "      <td>-80.113673</td>\n",
       "      <td>222</td>\n",
       "      <td>1</td>\n",
       "      <td>16.812471</td>\n",
       "      <td>0.816176</td>\n",
       "      <td>0.578125</td>\n",
       "      <td>78.591</td>\n",
       "      <td>0</td>\n",
       "    </tr>\n",
       "    <tr>\n",
       "      <th>1</th>\n",
       "      <td>73</td>\n",
       "      <td>29.493151</td>\n",
       "      <td>271.397260</td>\n",
       "      <td>15.517202</td>\n",
       "      <td>6.407490</td>\n",
       "      <td>0.910764</td>\n",
       "      <td>76.042946</td>\n",
       "      <td>73</td>\n",
       "      <td>1</td>\n",
       "      <td>9.640876</td>\n",
       "      <td>0.858824</td>\n",
       "      <td>0.608333</td>\n",
       "      <td>39.217</td>\n",
       "      <td>0</td>\n",
       "    </tr>\n",
       "    <tr>\n",
       "      <th>2</th>\n",
       "      <td>256</td>\n",
       "      <td>58.816406</td>\n",
       "      <td>289.941406</td>\n",
       "      <td>37.226013</td>\n",
       "      <td>9.863895</td>\n",
       "      <td>0.964256</td>\n",
       "      <td>85.324742</td>\n",
       "      <td>256</td>\n",
       "      <td>1</td>\n",
       "      <td>18.054067</td>\n",
       "      <td>0.752941</td>\n",
       "      <td>0.562637</td>\n",
       "      <td>89.111</td>\n",
       "      <td>0</td>\n",
       "    </tr>\n",
       "    <tr>\n",
       "      <th>3</th>\n",
       "      <td>126</td>\n",
       "      <td>71.023810</td>\n",
       "      <td>477.412698</td>\n",
       "      <td>13.112980</td>\n",
       "      <td>12.790672</td>\n",
       "      <td>0.220351</td>\n",
       "      <td>63.523477</td>\n",
       "      <td>126</td>\n",
       "      <td>1</td>\n",
       "      <td>12.666025</td>\n",
       "      <td>0.881119</td>\n",
       "      <td>0.646154</td>\n",
       "      <td>43.832</td>\n",
       "      <td>0</td>\n",
       "    </tr>\n",
       "    <tr>\n",
       "      <th>4</th>\n",
       "      <td>225</td>\n",
       "      <td>90.808889</td>\n",
       "      <td>541.946667</td>\n",
       "      <td>44.463110</td>\n",
       "      <td>7.858879</td>\n",
       "      <td>0.984256</td>\n",
       "      <td>-52.874983</td>\n",
       "      <td>225</td>\n",
       "      <td>1</td>\n",
       "      <td>16.925688</td>\n",
       "      <td>0.728155</td>\n",
       "      <td>0.252525</td>\n",
       "      <td>90.072</td>\n",
       "      <td>1</td>\n",
       "    </tr>\n",
       "  </tbody>\n",
       "</table>\n",
       "</div>"
      ],
      "text/plain": [
       "    0          1           2          3          4         5          6    7   \\\n",
       "0  222  31.189189   40.342342  35.579087   8.883917  0.968325 -80.113673  222   \n",
       "1   73  29.493151  271.397260  15.517202   6.407490  0.910764  76.042946   73   \n",
       "2  256  58.816406  289.941406  37.226013   9.863895  0.964256  85.324742  256   \n",
       "3  126  71.023810  477.412698  13.112980  12.790672  0.220351  63.523477  126   \n",
       "4  225  90.808889  541.946667  44.463110   7.858879  0.984256 -52.874983  225   \n",
       "\n",
       "   8          9         10        11      12  13  \n",
       "0   1  16.812471  0.816176  0.578125  78.591   0  \n",
       "1   1   9.640876  0.858824  0.608333  39.217   0  \n",
       "2   1  18.054067  0.752941  0.562637  89.111   0  \n",
       "3   1  12.666025  0.881119  0.646154  43.832   0  \n",
       "4   1  16.925688  0.728155  0.252525  90.072   1  "
      ]
     },
     "execution_count": 7,
     "metadata": {},
     "output_type": "execute_result"
    }
   ],
   "source": [
    "cells.head()"
   ]
  },
  {
   "cell_type": "code",
   "execution_count": 8,
   "metadata": {
    "scrolled": false
   },
   "outputs": [
    {
     "data": {
      "text/plain": [
       "0    1017\n",
       "1     200\n",
       "Name: 13, dtype: int64"
      ]
     },
     "execution_count": 8,
     "metadata": {},
     "output_type": "execute_result"
    }
   ],
   "source": [
    "#sanity check\n",
    "cells.iloc[:,13].value_counts()"
   ]
  },
  {
   "cell_type": "code",
   "execution_count": 9,
   "metadata": {},
   "outputs": [
    {
     "data": {
      "text/plain": [
       "<matplotlib.axes._subplots.AxesSubplot at 0x10a563e48>"
      ]
     },
     "execution_count": 9,
     "metadata": {},
     "output_type": "execute_result"
    },
    {
     "data": {
      "image/png": "[encoded data removed]",
      "text/plain": [
       "<matplotlib.figure.Figure at 0x10a55dda0>"
      ]
     },
     "metadata": {},
     "output_type": "display_data"
    }
   ],
   "source": [
    "sns.countplot(cells.iloc[:,13])"
   ]
  },
  {
   "cell_type": "code",
   "execution_count": 10,
   "metadata": {
    "scrolled": true
   },
   "outputs": [
    {
     "data": {
      "text/html": [
       "<div>\n",
       "<style>\n",
       "    .dataframe thead tr:only-child th {\n",
       "        text-align: right;\n",
       "    }\n",
       "\n",
       "    .dataframe thead th {\n",
       "        text-align: left;\n",
       "    }\n",
       "\n",
       "    .dataframe tbody tr th {\n",
       "        vertical-align: top;\n",
       "    }\n",
       "</style>\n",
       "<table border=\"1\" class=\"dataframe\">\n",
       "  <thead>\n",
       "    <tr style=\"text-align: right;\">\n",
       "      <th></th>\n",
       "      <th>0</th>\n",
       "      <th>1</th>\n",
       "      <th>2</th>\n",
       "      <th>3</th>\n",
       "      <th>4</th>\n",
       "      <th>5</th>\n",
       "      <th>6</th>\n",
       "      <th>7</th>\n",
       "      <th>8</th>\n",
       "      <th>9</th>\n",
       "      <th>10</th>\n",
       "      <th>11</th>\n",
       "      <th>12</th>\n",
       "      <th>13</th>\n",
       "    </tr>\n",
       "  </thead>\n",
       "  <tbody>\n",
       "    <tr>\n",
       "      <th>count</th>\n",
       "      <td>1217.000000</td>\n",
       "      <td>1217.000000</td>\n",
       "      <td>1217.000000</td>\n",
       "      <td>1217.000000</td>\n",
       "      <td>1217.000000</td>\n",
       "      <td>1217.000000</td>\n",
       "      <td>1217.000000</td>\n",
       "      <td>1217.000000</td>\n",
       "      <td>1217.000000</td>\n",
       "      <td>1217.000000</td>\n",
       "      <td>1217.000000</td>\n",
       "      <td>1217.000000</td>\n",
       "      <td>1217.000000</td>\n",
       "      <td>1217.000000</td>\n",
       "    </tr>\n",
       "    <tr>\n",
       "      <th>mean</th>\n",
       "      <td>200.366475</td>\n",
       "      <td>419.476953</td>\n",
       "      <td>211.335155</td>\n",
       "      <td>33.388599</td>\n",
       "      <td>9.376939</td>\n",
       "      <td>0.908628</td>\n",
       "      <td>0.160337</td>\n",
       "      <td>202.640099</td>\n",
       "      <td>0.516845</td>\n",
       "      <td>15.288929</td>\n",
       "      <td>0.775538</td>\n",
       "      <td>0.474788</td>\n",
       "      <td>78.928198</td>\n",
       "      <td>0.164339</td>\n",
       "    </tr>\n",
       "    <tr>\n",
       "      <th>std</th>\n",
       "      <td>135.665649</td>\n",
       "      <td>215.563920</td>\n",
       "      <td>141.592818</td>\n",
       "      <td>19.152143</td>\n",
       "      <td>3.634969</td>\n",
       "      <td>0.110942</td>\n",
       "      <td>50.589440</td>\n",
       "      <td>142.585975</td>\n",
       "      <td>2.071880</td>\n",
       "      <td>4.623930</td>\n",
       "      <td>0.117802</td>\n",
       "      <td>0.158341</td>\n",
       "      <td>48.798548</td>\n",
       "      <td>0.370735</td>\n",
       "    </tr>\n",
       "    <tr>\n",
       "      <th>min</th>\n",
       "      <td>70.000000</td>\n",
       "      <td>28.176471</td>\n",
       "      <td>27.870130</td>\n",
       "      <td>10.282437</td>\n",
       "      <td>3.080963</td>\n",
       "      <td>0.218074</td>\n",
       "      <td>-89.531335</td>\n",
       "      <td>70.000000</td>\n",
       "      <td>-26.000000</td>\n",
       "      <td>9.440697</td>\n",
       "      <td>0.261049</td>\n",
       "      <td>0.114482</td>\n",
       "      <td>28.193000</td>\n",
       "      <td>0.000000</td>\n",
       "    </tr>\n",
       "    <tr>\n",
       "      <th>25%</th>\n",
       "      <td>107.000000</td>\n",
       "      <td>243.400000</td>\n",
       "      <td>96.200000</td>\n",
       "      <td>18.760441</td>\n",
       "      <td>7.529888</td>\n",
       "      <td>0.885337</td>\n",
       "      <td>-41.131405</td>\n",
       "      <td>108.000000</td>\n",
       "      <td>1.000000</td>\n",
       "      <td>11.672045</td>\n",
       "      <td>0.702186</td>\n",
       "      <td>0.353261</td>\n",
       "      <td>45.974000</td>\n",
       "      <td>0.000000</td>\n",
       "    </tr>\n",
       "    <tr>\n",
       "      <th>50%</th>\n",
       "      <td>160.000000</td>\n",
       "      <td>415.360000</td>\n",
       "      <td>183.834286</td>\n",
       "      <td>27.832476</td>\n",
       "      <td>8.463304</td>\n",
       "      <td>0.949998</td>\n",
       "      <td>-0.104479</td>\n",
       "      <td>161.000000</td>\n",
       "      <td>1.000000</td>\n",
       "      <td>14.272993</td>\n",
       "      <td>0.789474</td>\n",
       "      <td>0.474359</td>\n",
       "      <td>66.302000</td>\n",
       "      <td>0.000000</td>\n",
       "    </tr>\n",
       "    <tr>\n",
       "      <th>75%</th>\n",
       "      <td>252.000000</td>\n",
       "      <td>611.128440</td>\n",
       "      <td>292.824742</td>\n",
       "      <td>44.462419</td>\n",
       "      <td>9.801152</td>\n",
       "      <td>0.978903</td>\n",
       "      <td>41.010273</td>\n",
       "      <td>253.000000</td>\n",
       "      <td>1.000000</td>\n",
       "      <td>17.912464</td>\n",
       "      <td>0.866071</td>\n",
       "      <td>0.592593</td>\n",
       "      <td>97.928000</td>\n",
       "      <td>0.000000</td>\n",
       "    </tr>\n",
       "    <tr>\n",
       "      <th>max</th>\n",
       "      <td>1089.000000</td>\n",
       "      <td>773.919643</td>\n",
       "      <td>575.340206</td>\n",
       "      <td>155.330123</td>\n",
       "      <td>43.487111</td>\n",
       "      <td>0.998459</td>\n",
       "      <td>89.881120</td>\n",
       "      <td>1159.000000</td>\n",
       "      <td>1.000000</td>\n",
       "      <td>37.236513</td>\n",
       "      <td>1.000000</td>\n",
       "      <td>0.905882</td>\n",
       "      <td>493.749000</td>\n",
       "      <td>1.000000</td>\n",
       "    </tr>\n",
       "  </tbody>\n",
       "</table>\n",
       "</div>"
      ],
      "text/plain": [
       "                0            1            2            3            4   \\\n",
       "count  1217.000000  1217.000000  1217.000000  1217.000000  1217.000000   \n",
       "mean    200.366475   419.476953   211.335155    33.388599     9.376939   \n",
       "std     135.665649   215.563920   141.592818    19.152143     3.634969   \n",
       "min      70.000000    28.176471    27.870130    10.282437     3.080963   \n",
       "25%     107.000000   243.400000    96.200000    18.760441     7.529888   \n",
       "50%     160.000000   415.360000   183.834286    27.832476     8.463304   \n",
       "75%     252.000000   611.128440   292.824742    44.462419     9.801152   \n",
       "max    1089.000000   773.919643   575.340206   155.330123    43.487111   \n",
       "\n",
       "                5            6            7            8            9   \\\n",
       "count  1217.000000  1217.000000  1217.000000  1217.000000  1217.000000   \n",
       "mean      0.908628     0.160337   202.640099     0.516845    15.288929   \n",
       "std       0.110942    50.589440   142.585975     2.071880     4.623930   \n",
       "min       0.218074   -89.531335    70.000000   -26.000000     9.440697   \n",
       "25%       0.885337   -41.131405   108.000000     1.000000    11.672045   \n",
       "50%       0.949998    -0.104479   161.000000     1.000000    14.272993   \n",
       "75%       0.978903    41.010273   253.000000     1.000000    17.912464   \n",
       "max       0.998459    89.881120  1159.000000     1.000000    37.236513   \n",
       "\n",
       "                10           11           12           13  \n",
       "count  1217.000000  1217.000000  1217.000000  1217.000000  \n",
       "mean      0.775538     0.474788    78.928198     0.164339  \n",
       "std       0.117802     0.158341    48.798548     0.370735  \n",
       "min       0.261049     0.114482    28.193000     0.000000  \n",
       "25%       0.702186     0.353261    45.974000     0.000000  \n",
       "50%       0.789474     0.474359    66.302000     0.000000  \n",
       "75%       0.866071     0.592593    97.928000     0.000000  \n",
       "max       1.000000     0.905882   493.749000     1.000000  "
      ]
     },
     "execution_count": 10,
     "metadata": {},
     "output_type": "execute_result"
    }
   ],
   "source": [
    "cells.describe()"
   ]
  },
  {
   "cell_type": "code",
   "execution_count": 11,
   "metadata": {
    "collapsed": true
   },
   "outputs": [],
   "source": [
    "# Splitting into X and Y\n",
    "X = cells.iloc[:,0:13]\n",
    "Y = cells.iloc[:,13]"
   ]
  },
  {
   "cell_type": "code",
   "execution_count": 12,
   "metadata": {},
   "outputs": [
    {
     "data": {
      "text/plain": [
       "(1217, 13)"
      ]
     },
     "execution_count": 12,
     "metadata": {},
     "output_type": "execute_result"
    }
   ],
   "source": [
    "X.shape"
   ]
  },
  {
   "cell_type": "markdown",
   "metadata": {},
   "source": [
    "### Preprocessing - Standardizing the numeric variables"
   ]
  },
  {
   "cell_type": "code",
   "execution_count": 13,
   "metadata": {
    "collapsed": true
   },
   "outputs": [],
   "source": [
    "# Standardization of numeric data of the dataset\n",
    "scaler = preprocessing.StandardScaler().fit(X)"
   ]
  },
  {
   "cell_type": "code",
   "execution_count": 14,
   "metadata": {
    "scrolled": true
   },
   "outputs": [
    {
     "name": "stdout",
     "output_type": "stream",
     "text": [
      "scaler mean: \n",
      " [  2.00366475e+02   4.19476953e+02   2.11335155e+02   3.33885991e+01\n",
      "   9.37693852e+00   9.08627983e-01   1.60336743e-01   2.02640099e+02\n",
      "   5.16844700e-01   1.52889294e+01   7.75537882e-01   4.74787841e-01\n",
      "   7.89281980e+01] \n",
      " scaler scale: [  1.35609899e+02   2.15475339e+02   1.41534633e+02   1.91442731e+01\n",
      "   3.63347577e+00   1.10896130e-01   5.05686512e+01   1.42527382e+02\n",
      "   2.07102813e+00   4.62202953e+00   1.17753713e-01   1.58276178e-01\n",
      "   4.87784954e+01]\n"
     ]
    }
   ],
   "source": [
    "print('scaler mean: \\n',scaler.mean_,'\\n' ,'scaler scale:',scaler.scale_)"
   ]
  },
  {
   "cell_type": "code",
   "execution_count": 15,
   "metadata": {
    "collapsed": true
   },
   "outputs": [],
   "source": [
    "X_scaled = scaler.transform(X)"
   ]
  },
  {
   "cell_type": "code",
   "execution_count": 16,
   "metadata": {
    "scrolled": true
   },
   "outputs": [
    {
     "name": "stdout",
     "output_type": "stream",
     "text": [
      "Xscaled mean: \n",
      " [  4.08693439e-17   7.00617324e-17  -4.08693439e-17   1.26986890e-16\n",
      "  -1.08011837e-16   1.49829934e-15   4.37885827e-18   5.83847770e-17\n",
      "  -6.42232547e-17   5.19624515e-16  -5.19624515e-16   5.83847770e-18\n",
      "  -7.44405906e-17] \n",
      " Xscaled scale: [ 1.  1.  1.  1.  1.  1.  1.  1.  1.  1.  1.  1.  1.]\n"
     ]
    }
   ],
   "source": [
    "print('Xscaled mean: \\n',X_scaled.mean(axis=0) ,'\\n' ,'Xscaled scale:',X_scaled.std(axis=0))"
   ]
  },
  {
   "cell_type": "code",
   "execution_count": 17,
   "metadata": {
    "collapsed": true
   },
   "outputs": [],
   "source": [
    "X_scaled = pd.DataFrame(X_scaled)"
   ]
  },
  {
   "cell_type": "code",
   "execution_count": 18,
   "metadata": {
    "scrolled": true
   },
   "outputs": [
    {
     "name": "stdout",
     "output_type": "stream",
     "text": [
      "<class 'pandas.core.frame.DataFrame'>\n",
      "RangeIndex: 1217 entries, 0 to 1216\n",
      "Data columns (total 13 columns):\n",
      "0     1217 non-null float64\n",
      "1     1217 non-null float64\n",
      "2     1217 non-null float64\n",
      "3     1217 non-null float64\n",
      "4     1217 non-null float64\n",
      "5     1217 non-null float64\n",
      "6     1217 non-null float64\n",
      "7     1217 non-null float64\n",
      "8     1217 non-null float64\n",
      "9     1217 non-null float64\n",
      "10    1217 non-null float64\n",
      "11    1217 non-null float64\n",
      "12    1217 non-null float64\n",
      "dtypes: float64(13)\n",
      "memory usage: 123.7 KB\n"
     ]
    }
   ],
   "source": [
    "X_scaled.info()"
   ]
  },
  {
   "cell_type": "code",
   "execution_count": 19,
   "metadata": {
    "scrolled": true
   },
   "outputs": [
    {
     "data": {
      "text/plain": [
       "(1217, 13)"
      ]
     },
     "execution_count": 19,
     "metadata": {},
     "output_type": "execute_result"
    }
   ],
   "source": [
    "#sanity check\n",
    "X_scaled.shape"
   ]
  },
  {
   "cell_type": "markdown",
   "metadata": {},
   "source": [
    "### Preprocessing - Splitting dataset into train and test data"
   ]
  },
  {
   "cell_type": "code",
   "execution_count": 20,
   "metadata": {
    "collapsed": true
   },
   "outputs": [],
   "source": [
    "#Shuffling data\n",
    "X_shuffle, Y_shuffle = shuffle(X_scaled, Y, random_state=121)"
   ]
  },
  {
   "cell_type": "code",
   "execution_count": 21,
   "metadata": {
    "scrolled": true
   },
   "outputs": [
    {
     "data": {
      "text/plain": [
       "79     0\n",
       "552    0\n",
       "136    0\n",
       "208    0\n",
       "457    1\n",
       "Name: 13, dtype: int64"
      ]
     },
     "execution_count": 21,
     "metadata": {},
     "output_type": "execute_result"
    }
   ],
   "source": [
    "Y_shuffle.head()"
   ]
  },
  {
   "cell_type": "code",
   "execution_count": 22,
   "metadata": {
    "collapsed": true
   },
   "outputs": [],
   "source": [
    "#Splitting data into train and test data\n",
    "X_train, X_test, Y_train, Y_test = train_test_split(X_shuffle, Y_shuffle, test_size=0.20, random_state=121)"
   ]
  },
  {
   "cell_type": "code",
   "execution_count": 134,
   "metadata": {
    "collapsed": true
   },
   "outputs": [],
   "source": [
    "#saving files\n",
    "#X_train.to_csv('X_train.csv',sep =',',index_label='Index')"
   ]
  },
  {
   "cell_type": "code",
   "execution_count": 135,
   "metadata": {
    "collapsed": true
   },
   "outputs": [],
   "source": [
    "#Y_train.to_csv('Y_train.csv',sep =',',index_label='Index')"
   ]
  },
  {
   "cell_type": "code",
   "execution_count": 102,
   "metadata": {
    "collapsed": true,
    "scrolled": true
   },
   "outputs": [],
   "source": [
    "# calculating inverse regularization parameters\n",
    "cs = l1_min_c(X_train, Y_train, loss='log') * np.logspace(0, 3)"
   ]
  },
  {
   "cell_type": "markdown",
   "metadata": {},
   "source": [
    "### Regularization using Lasso "
   ]
  },
  {
   "cell_type": "code",
   "execution_count": 109,
   "metadata": {
    "scrolled": true
   },
   "outputs": [
    {
     "name": "stdout",
     "output_type": "stream",
     "text": [
      "Computing regularization path ...\n"
     ]
    },
    {
     "data": {
      "image/png": "[encoded data removed]",
      "text/plain": [
       "<matplotlib.figure.Figure at 0x1032e1da0>"
      ]
     },
     "metadata": {},
     "output_type": "display_data"
    }
   ],
   "source": [
    "# Creating a lasso plot to perform feature selection\n",
    "print(\"Computing regularization path ...\")\n",
    "clf = linear_model.LogisticRegression(C=1.0, penalty='l1', tol=1e-6)\n",
    "fig, ax = plt.subplots(figsize=(18,8))\n",
    "coefs_ = []\n",
    "for c in cs:\n",
    "    clf.set_params(C=c)\n",
    "    clf.fit(X_train, Y_train)\n",
    "    coefs_.append(clf.coef_.ravel().copy())\n",
    "\n",
    "coefs_ = np.array(coefs_)\n",
    "plt.plot(np.log10(cs), coefs_)\n",
    "\n",
    "plt.vlines( np.log10(cs),ymin, ymax, linestyle='dotted',label='alpha estimate:alpha_')\n",
    "ymin, ymax = plt.ylim()\n",
    "plt.xlabel('log(C)')\n",
    "plt.ylabel('Coefficients')\n",
    "plt.title('Logistic Regression Path')\n",
    "plt.axis('tight')\n",
    "plt.show()"
   ]
  },
  {
   "cell_type": "code",
   "execution_count": 112,
   "metadata": {
    "scrolled": false
   },
   "outputs": [
    {
     "data": {
      "text/plain": [
       "array([-2.52179165, -2.46056716, -2.39934267, -2.33811818, -2.27689369,\n",
       "       -2.2156692 , -2.15444471, -2.09322022, -2.03199573, -1.97077124,\n",
       "       -1.90954675, -1.84832226, -1.78709777, -1.72587328, -1.66464879,\n",
       "       -1.6034243 , -1.54219981, -1.48097532, -1.41975083, -1.35852634,\n",
       "       -1.29730185, -1.23607736, -1.17485287, -1.11362838, -1.05240389,\n",
       "       -0.9911794 , -0.92995491, -0.86873043, -0.80750594, -0.74628145,\n",
       "       -0.68505696, -0.62383247, -0.56260798, -0.50138349, -0.440159  ,\n",
       "       -0.37893451, -0.31771002, -0.25648553, -0.19526104, -0.13403655,\n",
       "       -0.07281206, -0.01158757,  0.04963692,  0.11086141,  0.1720859 ,\n",
       "        0.23331039,  0.29453488,  0.35575937,  0.41698386,  0.47820835])"
      ]
     },
     "execution_count": 112,
     "metadata": {},
     "output_type": "execute_result"
    }
   ],
   "source": [
    "#checking the coefficients used (in logarithmic form)\n",
    "np.log10(cs)"
   ]
  },
  {
   "cell_type": "code",
   "execution_count": 127,
   "metadata": {
    "collapsed": true
   },
   "outputs": [],
   "source": [
    "#for fixed lambda 0.73445206\n",
    "clf1 = linear_model.LogisticRegression(C=0.73, penalty='l1', tol=1e-6,solver='liblinear')\n",
    "clf1.fit(X_train,Y_train)\n",
    "score = cross_val_score(clf1,X_train,Y_train,cv=10)\n",
    "\n",
    "clf_pred = clf1.predict(X_test)"
   ]
  },
  {
   "cell_type": "code",
   "execution_count": 154,
   "metadata": {},
   "outputs": [
    {
     "data": {
      "text/plain": [
       "array([0, 1])"
      ]
     },
     "execution_count": 154,
     "metadata": {},
     "output_type": "execute_result"
    }
   ],
   "source": [
    "clf1.classes_"
   ]
  },
  {
   "cell_type": "code",
   "execution_count": 129,
   "metadata": {
    "scrolled": true
   },
   "outputs": [
    {
     "name": "stdout",
     "output_type": "stream",
     "text": [
      "Accuracy: 0.92 (+/- 0.04)\n"
     ]
    }
   ],
   "source": [
    "# Accuracy of training data\n",
    "print(\"Accuracy: %0.2f (+/- %0.2f)\" % (score.mean(), score.std() * 2))"
   ]
  },
  {
   "cell_type": "code",
   "execution_count": 233,
   "metadata": {
    "scrolled": true
   },
   "outputs": [
    {
     "data": {
      "text/plain": [
       "<matplotlib.axes._subplots.AxesSubplot at 0x1a14c43278>"
      ]
     },
     "execution_count": 233,
     "metadata": {},
     "output_type": "execute_result"
    },
    {
     "data": {
      "image/png": "[encoded data removed]",
      "text/plain": [
       "<matplotlib.figure.Figure at 0x1a14c34dd8>"
      ]
     },
     "metadata": {},
     "output_type": "display_data"
    }
   ],
   "source": [
    "#Learning plot\n",
    "skplt.estimators.plot_learning_curve(clf1, X_train, Y_train,cv=10)"
   ]
  },
  {
   "cell_type": "markdown",
   "metadata": {},
   "source": [
    "### Quality Evaluation of the model"
   ]
  },
  {
   "cell_type": "code",
   "execution_count": 189,
   "metadata": {
    "collapsed": true
   },
   "outputs": [],
   "source": [
    "#Predicting the probabilities of test data belonging to class 0 and class 1\n",
    "clf_prob = clf1.predict_proba(X_test)"
   ]
  },
  {
   "cell_type": "code",
   "execution_count": 140,
   "metadata": {
    "scrolled": false
   },
   "outputs": [
    {
     "name": "stdout",
     "output_type": "stream",
     "text": [
      "[[196   2]\n",
      " [ 19  27]]\n"
     ]
    }
   ],
   "source": [
    "\n",
    "confusion_mat = confusion_matrix(Y_test,clf_pred)\n",
    "print(confusion_mat)"
   ]
  },
  {
   "cell_type": "code",
   "execution_count": 227,
   "metadata": {},
   "outputs": [
    {
     "data": {
      "text/plain": [
       "<matplotlib.axes._subplots.AxesSubplot at 0x1a15655550>"
      ]
     },
     "execution_count": 227,
     "metadata": {},
     "output_type": "execute_result"
    },
    {
     "data": {
      "image/png": "[encoded data removed]",
      "text/plain": [
       "<matplotlib.figure.Figure at 0x1a156f6898>"
      ]
     },
     "metadata": {},
     "output_type": "display_data"
    }
   ],
   "source": [
    "#Another way of displaying the confusion matrix\n",
    "skplt.metrics.plot_confusion_matrix(Y_test, clf_pred, normalize=False)"
   ]
  },
  {
   "cell_type": "markdown",
   "metadata": {},
   "source": [
    "### Classification Report - Precision , Recall F1 Score and Accuracy of the model"
   ]
  },
  {
   "cell_type": "code",
   "execution_count": 141,
   "metadata": {
    "scrolled": true
   },
   "outputs": [
    {
     "name": "stdout",
     "output_type": "stream",
     "text": [
      "             precision    recall  f1-score   support\n",
      "\n",
      "          0       0.91      0.99      0.95       198\n",
      "          1       0.93      0.59      0.72        46\n",
      "\n",
      "avg / total       0.92      0.91      0.91       244\n",
      "\n"
     ]
    }
   ],
   "source": [
    "print(classification_report(Y_test,clf_pred))"
   ]
  },
  {
   "cell_type": "code",
   "execution_count": 143,
   "metadata": {
    "scrolled": false
   },
   "outputs": [
    {
     "name": "stdout",
     "output_type": "stream",
     "text": [
      "0.91393442623\n"
     ]
    }
   ],
   "source": [
    "print(accuracy_score(Y_test,clf_pred))"
   ]
  },
  {
   "cell_type": "markdown",
   "metadata": {},
   "source": [
    "### Plotting ROC curve and calculating AUC"
   ]
  },
  {
   "cell_type": "code",
   "execution_count": 149,
   "metadata": {
    "collapsed": true
   },
   "outputs": [],
   "source": [
    "from sklearn.metrics import roc_curve,roc_auc_score,auc"
   ]
  },
  {
   "cell_type": "code",
   "execution_count": 207,
   "metadata": {
    "collapsed": true
   },
   "outputs": [],
   "source": [
    "pred_0 = clf1.predict_proba(X_test)[:,0]\n",
    "pred_1 = clf1.predict_proba(X_test)[:,1]"
   ]
  },
  {
   "cell_type": "code",
   "execution_count": 210,
   "metadata": {
    "collapsed": true
   },
   "outputs": [],
   "source": [
    "# Compute ROC curve and ROC area for each class\n",
    "n_classes = 2\n",
    "fpr_0, tpr_0, threshold_0 = roc_curve(Y_test, pred_0,0)\n",
    "roc_auc_0 = auc(fpr_0, tpr_0)\n",
    "fpr_1, tpr_1, threshold_1 = roc_curve(Y_test, pred_1,1)\n",
    "roc_auc_1 = auc(fpr_1, tpr_1)\n",
    "\n",
    "    "
   ]
  },
  {
   "cell_type": "code",
   "execution_count": 211,
   "metadata": {},
   "outputs": [
    {
     "name": "stdout",
     "output_type": "stream",
     "text": [
      "0.963987703118 0.963987703118\n"
     ]
    }
   ],
   "source": [
    "print(roc_auc_0,roc_auc_1)"
   ]
  },
  {
   "cell_type": "code",
   "execution_count": 214,
   "metadata": {
    "scrolled": true
   },
   "outputs": [
    {
     "data": {
      "text/plain": [
       "<matplotlib.figure.Figure at 0x10dfe63c8>"
      ]
     },
     "metadata": {},
     "output_type": "display_data"
    },
    {
     "data": {
      "image/png": "[encoded data removed]",
      "text/plain": [
       "<matplotlib.figure.Figure at 0x1028386a0>"
      ]
     },
     "metadata": {},
     "output_type": "display_data"
    }
   ],
   "source": [
    "plt.figure()\n",
    "lw = 2\n",
    "fig, ax = plt.subplots(figsize=(18,8))\n",
    "\n",
    "plt.plot(fpr_0, tpr_0, color='darkorange',\n",
    "         lw=lw, label='ROC curve (area = %0.2f)' % roc_auc_0)\n",
    "plt.plot(fpr_1, tpr_1, color='green',\n",
    "         lw=lw, label='ROC curve (area = %0.2f)' % roc_auc_1)\n",
    "\n",
    "plt.plot([0, 1], [0, 1], color='navy', lw=lw, linestyle='--')\n",
    "plt.xlim([0.0, 1.0])\n",
    "plt.ylim([0.0, 1.05])\n",
    "plt.xlabel('False Positive Rate')\n",
    "plt.ylabel('True Positive Rate')\n",
    "plt.title('Receiver operating characteristic example')\n",
    "plt.legend(loc=\"lower right\")\n",
    "plt.show()\n"
   ]
  },
  {
   "cell_type": "code",
   "execution_count": 240,
   "metadata": {
    "scrolled": true
   },
   "outputs": [
    {
     "data": {
      "text/plain": [
       "<matplotlib.axes._subplots.AxesSubplot at 0x10ab434a8>"
      ]
     },
     "execution_count": 240,
     "metadata": {},
     "output_type": "execute_result"
    },
    {
     "data": {
      "image/png": "[encoded data removed]",
      "text/plain": [
       "<matplotlib.figure.Figure at 0x10a5b46a0>"
      ]
     },
     "metadata": {},
     "output_type": "display_data"
    }
   ],
   "source": [
    "# Another package which helps in creating ROc curve\n",
    "skplt.metrics.plot_roc(Y_test, clf_prob,figsize=(10,8),plot_macro=False,plot_micro=False)"
   ]
  },
  {
   "cell_type": "markdown",
   "metadata": {},
   "source": [
    "### Plotting Precision Recall Curve "
   ]
  },
  {
   "cell_type": "code",
   "execution_count": 238,
   "metadata": {
    "scrolled": true
   },
   "outputs": [
    {
     "data": {
      "text/plain": [
       "<matplotlib.figure.Figure at 0x1a14cd73c8>"
      ]
     },
     "metadata": {},
     "output_type": "display_data"
    },
    {
     "data": {
      "image/png": "[encoded data removed]",
      "text/plain": [
       "<matplotlib.figure.Figure at 0x10a6cc128>"
      ]
     },
     "metadata": {},
     "output_type": "display_data"
    }
   ],
   "source": [
    "\n",
    "plt.figure()\n",
    "skplt.metrics.plot_precision_recall(Y_test, clf_prob,plot_micro=False,figsize=(10,8))\n",
    "plt.show()"
   ]
  },
  {
   "cell_type": "code",
   "execution_count": null,
   "metadata": {
    "collapsed": true,
    "scrolled": true
   },
   "outputs": [],
   "source": []
  },
  {
   "cell_type": "code",
   "execution_count": 231,
   "metadata": {},
   "outputs": [
    {
     "data": {
      "text/plain": [
       "<matplotlib.axes._subplots.AxesSubplot at 0x1a153f79e8>"
      ]
     },
     "execution_count": 231,
     "metadata": {},
     "output_type": "execute_result"
    },
    {
     "data": {
      "image/png": "[encoded data removed]",
      "text/plain": [
       "<matplotlib.figure.Figure at 0x1a14efc978>"
      ]
     },
     "metadata": {},
     "output_type": "display_data"
    }
   ],
   "source": [
    "#Reliability curve :\n",
    "probas_list = [clf_prob]\n",
    "skplt.metrics.plot_calibration_curve(Y_test,probas_list)\n"
   ]
  }
 ],
 "metadata": {
  "kernelspec": {
   "display_name": "Python 3",
   "language": "python",
   "name": "python3"
  },
  "language_info": {
   "codemirror_mode": {
    "name": "ipython",
    "version": 3
   },
   "file_extension": ".py",
   "mimetype": "text/x-python",
   "name": "python",
   "nbconvert_exporter": "python",
   "pygments_lexer": "ipython3",
   "version": "3.6.3"
  }
 },
 "nbformat": 4,
 "nbformat_minor": 2
}
